{
 "cells": [
  {
   "cell_type": "code",
   "execution_count": 1,
   "metadata": {},
   "outputs": [],
   "source": [
    "import pandas as pd\n",
    "import numpy as np\n",
    "import seaborn as sns\n",
    "from matplotlib import pyplot as plt\n"
   ]
  },
  {
   "cell_type": "code",
   "execution_count": 2,
   "metadata": {},
   "outputs": [],
   "source": [
    "#Import data\n",
    "df = pd.read_csv('med-abx1-3.7-medi-cal-age-and-gender-q221.csv')"
   ]
  },
  {
   "cell_type": "code",
   "execution_count": 3,
   "metadata": {},
   "outputs": [
    {
     "data": {
      "text/html": [
       "<div>\n",
       "<style scoped>\n",
       "    .dataframe tbody tr th:only-of-type {\n",
       "        vertical-align: middle;\n",
       "    }\n",
       "\n",
       "    .dataframe tbody tr th {\n",
       "        vertical-align: top;\n",
       "    }\n",
       "\n",
       "    .dataframe thead th {\n",
       "        text-align: right;\n",
       "    }\n",
       "</style>\n",
       "<table border=\"1\" class=\"dataframe\">\n",
       "  <thead>\n",
       "    <tr style=\"text-align: right;\">\n",
       "      <th></th>\n",
       "      <th>Year</th>\n",
       "      <th>Reporting Period</th>\n",
       "      <th>Age Group</th>\n",
       "      <th>Gender</th>\n",
       "      <th>Number of Eligible Individuals</th>\n",
       "      <th>Unnamed: 5</th>\n",
       "    </tr>\n",
       "  </thead>\n",
       "  <tbody>\n",
       "    <tr>\n",
       "      <th>0</th>\n",
       "      <td>2016</td>\n",
       "      <td>2016 Q1</td>\n",
       "      <td>0 to 17</td>\n",
       "      <td>Male</td>\n",
       "      <td>70652</td>\n",
       "      <td>NaN</td>\n",
       "    </tr>\n",
       "    <tr>\n",
       "      <th>1</th>\n",
       "      <td>2016</td>\n",
       "      <td>2016 Q1</td>\n",
       "      <td>18 to 25</td>\n",
       "      <td>Male</td>\n",
       "      <td>21602</td>\n",
       "      <td>NaN</td>\n",
       "    </tr>\n",
       "    <tr>\n",
       "      <th>2</th>\n",
       "      <td>2016</td>\n",
       "      <td>2016 Q1</td>\n",
       "      <td>26 to 34</td>\n",
       "      <td>Male</td>\n",
       "      <td>30515</td>\n",
       "      <td>NaN</td>\n",
       "    </tr>\n",
       "    <tr>\n",
       "      <th>3</th>\n",
       "      <td>2016</td>\n",
       "      <td>2016 Q1</td>\n",
       "      <td>35 to 44</td>\n",
       "      <td>Male</td>\n",
       "      <td>19054</td>\n",
       "      <td>NaN</td>\n",
       "    </tr>\n",
       "    <tr>\n",
       "      <th>4</th>\n",
       "      <td>2016</td>\n",
       "      <td>2016 Q1</td>\n",
       "      <td>45 to 54</td>\n",
       "      <td>Male</td>\n",
       "      <td>20787</td>\n",
       "      <td>NaN</td>\n",
       "    </tr>\n",
       "    <tr>\n",
       "      <th>...</th>\n",
       "      <td>...</td>\n",
       "      <td>...</td>\n",
       "      <td>...</td>\n",
       "      <td>...</td>\n",
       "      <td>...</td>\n",
       "      <td>...</td>\n",
       "    </tr>\n",
       "    <tr>\n",
       "      <th>303</th>\n",
       "      <td>2021</td>\n",
       "      <td>2021 Q2</td>\n",
       "      <td>26 to 34</td>\n",
       "      <td>Female</td>\n",
       "      <td>18763</td>\n",
       "      <td>NaN</td>\n",
       "    </tr>\n",
       "    <tr>\n",
       "      <th>304</th>\n",
       "      <td>2021</td>\n",
       "      <td>2021 Q2</td>\n",
       "      <td>35 to 44</td>\n",
       "      <td>Female</td>\n",
       "      <td>12114</td>\n",
       "      <td>NaN</td>\n",
       "    </tr>\n",
       "    <tr>\n",
       "      <th>305</th>\n",
       "      <td>2021</td>\n",
       "      <td>2021 Q2</td>\n",
       "      <td>45 to 54</td>\n",
       "      <td>Female</td>\n",
       "      <td>11214</td>\n",
       "      <td>NaN</td>\n",
       "    </tr>\n",
       "    <tr>\n",
       "      <th>306</th>\n",
       "      <td>2021</td>\n",
       "      <td>2021 Q2</td>\n",
       "      <td>55 to 64</td>\n",
       "      <td>Female</td>\n",
       "      <td>9964</td>\n",
       "      <td>NaN</td>\n",
       "    </tr>\n",
       "    <tr>\n",
       "      <th>307</th>\n",
       "      <td>2021</td>\n",
       "      <td>2021 Q2</td>\n",
       "      <td>65+</td>\n",
       "      <td>Female</td>\n",
       "      <td>5902</td>\n",
       "      <td>NaN</td>\n",
       "    </tr>\n",
       "  </tbody>\n",
       "</table>\n",
       "<p>308 rows × 6 columns</p>\n",
       "</div>"
      ],
      "text/plain": [
       "     Year Reporting Period Age Group  Gender  Number of Eligible Individuals   \\\n",
       "0    2016          2016 Q1   0 to 17    Male                            70652   \n",
       "1    2016          2016 Q1  18 to 25    Male                            21602   \n",
       "2    2016          2016 Q1  26 to 34    Male                            30515   \n",
       "3    2016          2016 Q1  35 to 44    Male                            19054   \n",
       "4    2016          2016 Q1  45 to 54    Male                            20787   \n",
       "..    ...              ...       ...     ...                              ...   \n",
       "303  2021          2021 Q2  26 to 34  Female                            18763   \n",
       "304  2021          2021 Q2  35 to 44  Female                            12114   \n",
       "305  2021          2021 Q2  45 to 54  Female                            11214   \n",
       "306  2021          2021 Q2  55 to 64  Female                             9964   \n",
       "307  2021          2021 Q2       65+  Female                             5902   \n",
       "\n",
       "     Unnamed: 5  \n",
       "0           NaN  \n",
       "1           NaN  \n",
       "2           NaN  \n",
       "3           NaN  \n",
       "4           NaN  \n",
       "..          ...  \n",
       "303         NaN  \n",
       "304         NaN  \n",
       "305         NaN  \n",
       "306         NaN  \n",
       "307         NaN  \n",
       "\n",
       "[308 rows x 6 columns]"
      ]
     },
     "execution_count": 3,
     "metadata": {},
     "output_type": "execute_result"
    }
   ],
   "source": [
    "df"
   ]
  },
  {
   "cell_type": "code",
   "execution_count": 4,
   "metadata": {},
   "outputs": [
    {
     "data": {
      "text/plain": [
       "Year                                 int64\n",
       "Reporting Period                    object\n",
       "Age Group                           object\n",
       "Gender                              object\n",
       "Number of Eligible Individuals       int64\n",
       "Unnamed: 5                         float64\n",
       "dtype: object"
      ]
     },
     "execution_count": 4,
     "metadata": {},
     "output_type": "execute_result"
    }
   ],
   "source": [
    "#to identify what type the columns are\n",
    "df.dtypes"
   ]
  },
  {
   "cell_type": "code",
   "execution_count": 5,
   "metadata": {},
   "outputs": [
    {
     "data": {
      "text/plain": [
       "Year                                 0\n",
       "Reporting Period                     0\n",
       "Age Group                            0\n",
       "Gender                               0\n",
       "Number of Eligible Individuals       0\n",
       "Unnamed: 5                         308\n",
       "dtype: int64"
      ]
     },
     "execution_count": 5,
     "metadata": {},
     "output_type": "execute_result"
    }
   ],
   "source": [
    "#to count the amount of times there’s a null value in a column\n",
    "df.isnull().sum()"
   ]
  },
  {
   "cell_type": "code",
   "execution_count": 6,
   "metadata": {},
   "outputs": [
    {
     "name": "stdout",
     "output_type": "stream",
     "text": [
      "The number of values for feature Year :6 -- [2016 2017 2018 2019 2020 2021]\n",
      "The number of values for feature Reporting Period :22 -- ['2016 Q1' '2016 Q2' '2016 Q3' '2016 Q4' '2017 Q1' '2017 Q2' '2017 Q3'\n",
      " '2017 Q4' '2018 Q1' '2018 Q2' '2018 Q3' '2018 Q4' '2019 Q1' '2019 Q2'\n",
      " '2019 Q3' '2019 Q4' '2020 Q1' '2020 Q2' '2020 Q3' '2020 Q4' '2021 Q1'\n",
      " '2021 Q2']\n",
      "The number of values for feature Age Group :7 -- ['0 to 17' '18 to 25' '26 to 34' '35 to 44' '45 to 54' '55 to 64' '65+']\n",
      "The number of values for feature Gender :2 -- ['Female' 'Male']\n",
      "The number of values for feature Number of Eligible Individuals  :306\n",
      "The number of values for feature Unnamed: 5 :308\n"
     ]
    }
   ],
   "source": [
    "#this code will shows all the unique values in a column\n",
    "for column in df:\n",
    "    unique_vals = np.unique(df[column])\n",
    "    nr_values = len(unique_vals)\n",
    "    if nr_values < 36:\n",
    "        print('The number of values for feature {} :{} -- {}'.format(column, nr_values,unique_vals))\n",
    "    else:\n",
    "        print('The number of values for feature {} :{}'.format(column, nr_values))"
   ]
  },
  {
   "cell_type": "code",
   "execution_count": 7,
   "metadata": {},
   "outputs": [
    {
     "data": {
      "text/plain": [
       "Index(['Year', 'Reporting Period', 'Age Group', 'Gender',\n",
       "       'Number of Eligible Individuals ', 'Unnamed: 5'],\n",
       "      dtype='object')"
      ]
     },
     "execution_count": 7,
     "metadata": {},
     "output_type": "execute_result"
    }
   ],
   "source": [
    "df.columns"
   ]
  },
  {
   "cell_type": "code",
   "execution_count": 8,
   "metadata": {},
   "outputs": [],
   "source": [
    "df = df.drop(columns=['Unnamed: 5'])"
   ]
  },
  {
   "cell_type": "code",
   "execution_count": 9,
   "metadata": {},
   "outputs": [
    {
     "data": {
      "text/plain": [
       "Index(['Year', 'Reporting Period', 'Age Group', 'Gender',\n",
       "       'Number of Eligible Individuals '],\n",
       "      dtype='object')"
      ]
     },
     "execution_count": 9,
     "metadata": {},
     "output_type": "execute_result"
    }
   ],
   "source": [
    "df.columns"
   ]
  },
  {
   "cell_type": "code",
   "execution_count": 10,
   "metadata": {},
   "outputs": [
    {
     "data": {
      "text/html": [
       "<div>\n",
       "<style scoped>\n",
       "    .dataframe tbody tr th:only-of-type {\n",
       "        vertical-align: middle;\n",
       "    }\n",
       "\n",
       "    .dataframe tbody tr th {\n",
       "        vertical-align: top;\n",
       "    }\n",
       "\n",
       "    .dataframe thead th {\n",
       "        text-align: right;\n",
       "    }\n",
       "</style>\n",
       "<table border=\"1\" class=\"dataframe\">\n",
       "  <thead>\n",
       "    <tr style=\"text-align: right;\">\n",
       "      <th></th>\n",
       "      <th>Number of Eligible Individuals</th>\n",
       "    </tr>\n",
       "    <tr>\n",
       "      <th>Year</th>\n",
       "      <th></th>\n",
       "    </tr>\n",
       "  </thead>\n",
       "  <tbody>\n",
       "    <tr>\n",
       "      <th>2016</th>\n",
       "      <td>1311344</td>\n",
       "    </tr>\n",
       "    <tr>\n",
       "      <th>2017</th>\n",
       "      <td>1253887</td>\n",
       "    </tr>\n",
       "    <tr>\n",
       "      <th>2018</th>\n",
       "      <td>1042758</td>\n",
       "    </tr>\n",
       "    <tr>\n",
       "      <th>2019</th>\n",
       "      <td>1004325</td>\n",
       "    </tr>\n",
       "    <tr>\n",
       "      <th>2020</th>\n",
       "      <td>984853</td>\n",
       "    </tr>\n",
       "    <tr>\n",
       "      <th>2021</th>\n",
       "      <td>513852</td>\n",
       "    </tr>\n",
       "  </tbody>\n",
       "</table>\n",
       "</div>"
      ],
      "text/plain": [
       "      Number of Eligible Individuals \n",
       "Year                                 \n",
       "2016                          1311344\n",
       "2017                          1253887\n",
       "2018                          1042758\n",
       "2019                          1004325\n",
       "2020                           984853\n",
       "2021                           513852"
      ]
     },
     "execution_count": 10,
     "metadata": {},
     "output_type": "execute_result"
    }
   ],
   "source": [
    "df.groupby(by='Year').sum()"
   ]
  },
  {
   "cell_type": "code",
   "execution_count": 11,
   "metadata": {},
   "outputs": [],
   "source": [
    "df= df.rename(columns={'Number of Eligible Individuals ': 'NOI'})"
   ]
  },
  {
   "cell_type": "code",
   "execution_count": 12,
   "metadata": {},
   "outputs": [
    {
     "data": {
      "text/html": [
       "<div>\n",
       "<style scoped>\n",
       "    .dataframe tbody tr th:only-of-type {\n",
       "        vertical-align: middle;\n",
       "    }\n",
       "\n",
       "    .dataframe tbody tr th {\n",
       "        vertical-align: top;\n",
       "    }\n",
       "\n",
       "    .dataframe thead th {\n",
       "        text-align: right;\n",
       "    }\n",
       "</style>\n",
       "<table border=\"1\" class=\"dataframe\">\n",
       "  <thead>\n",
       "    <tr style=\"text-align: right;\">\n",
       "      <th>Gender</th>\n",
       "      <th>Female</th>\n",
       "      <th>Male</th>\n",
       "    </tr>\n",
       "    <tr>\n",
       "      <th>Year</th>\n",
       "      <th></th>\n",
       "      <th></th>\n",
       "    </tr>\n",
       "  </thead>\n",
       "  <tbody>\n",
       "    <tr>\n",
       "      <th>2016</th>\n",
       "      <td>646384</td>\n",
       "      <td>664960</td>\n",
       "    </tr>\n",
       "    <tr>\n",
       "      <th>2017</th>\n",
       "      <td>609278</td>\n",
       "      <td>644609</td>\n",
       "    </tr>\n",
       "    <tr>\n",
       "      <th>2018</th>\n",
       "      <td>520294</td>\n",
       "      <td>522464</td>\n",
       "    </tr>\n",
       "    <tr>\n",
       "      <th>2019</th>\n",
       "      <td>507891</td>\n",
       "      <td>496434</td>\n",
       "    </tr>\n",
       "    <tr>\n",
       "      <th>2020</th>\n",
       "      <td>488530</td>\n",
       "      <td>496323</td>\n",
       "    </tr>\n",
       "    <tr>\n",
       "      <th>2021</th>\n",
       "      <td>248736</td>\n",
       "      <td>265116</td>\n",
       "    </tr>\n",
       "  </tbody>\n",
       "</table>\n",
       "</div>"
      ],
      "text/plain": [
       "Gender  Female    Male\n",
       "Year                  \n",
       "2016    646384  664960\n",
       "2017    609278  644609\n",
       "2018    520294  522464\n",
       "2019    507891  496434\n",
       "2020    488530  496323\n",
       "2021    248736  265116"
      ]
     },
     "execution_count": 12,
     "metadata": {},
     "output_type": "execute_result"
    }
   ],
   "source": [
    "pivot1 =  pd.pivot_table(df, values='NOI',\n",
    "                        index='Year', columns=['Gender'],\n",
    "                        aggfunc='sum')\n",
    "pivot1"
   ]
  },
  {
   "cell_type": "code",
   "execution_count": 13,
   "metadata": {},
   "outputs": [
    {
     "data": {
      "text/html": [
       "<div>\n",
       "<style scoped>\n",
       "    .dataframe tbody tr th:only-of-type {\n",
       "        vertical-align: middle;\n",
       "    }\n",
       "\n",
       "    .dataframe tbody tr th {\n",
       "        vertical-align: top;\n",
       "    }\n",
       "\n",
       "    .dataframe thead th {\n",
       "        text-align: right;\n",
       "    }\n",
       "</style>\n",
       "<table border=\"1\" class=\"dataframe\">\n",
       "  <thead>\n",
       "    <tr style=\"text-align: right;\">\n",
       "      <th>Gender</th>\n",
       "      <th>Female</th>\n",
       "      <th>Male</th>\n",
       "    </tr>\n",
       "    <tr>\n",
       "      <th>Age Group</th>\n",
       "      <th></th>\n",
       "      <th></th>\n",
       "    </tr>\n",
       "  </thead>\n",
       "  <tbody>\n",
       "    <tr>\n",
       "      <th>0 to 17</th>\n",
       "      <td>1266502</td>\n",
       "      <td>1309447</td>\n",
       "    </tr>\n",
       "    <tr>\n",
       "      <th>18 to 25</th>\n",
       "      <td>356913</td>\n",
       "      <td>254587</td>\n",
       "    </tr>\n",
       "    <tr>\n",
       "      <th>26 to 34</th>\n",
       "      <td>473321</td>\n",
       "      <td>473763</td>\n",
       "    </tr>\n",
       "    <tr>\n",
       "      <th>35 to 44</th>\n",
       "      <td>287073</td>\n",
       "      <td>368157</td>\n",
       "    </tr>\n",
       "    <tr>\n",
       "      <th>45 to 54</th>\n",
       "      <td>253077</td>\n",
       "      <td>305585</td>\n",
       "    </tr>\n",
       "    <tr>\n",
       "      <th>55 to 64</th>\n",
       "      <td>238471</td>\n",
       "      <td>259073</td>\n",
       "    </tr>\n",
       "    <tr>\n",
       "      <th>65+</th>\n",
       "      <td>145756</td>\n",
       "      <td>119294</td>\n",
       "    </tr>\n",
       "  </tbody>\n",
       "</table>\n",
       "</div>"
      ],
      "text/plain": [
       "Gender      Female     Male\n",
       "Age Group                  \n",
       "0 to 17    1266502  1309447\n",
       "18 to 25    356913   254587\n",
       "26 to 34    473321   473763\n",
       "35 to 44    287073   368157\n",
       "45 to 54    253077   305585\n",
       "55 to 64    238471   259073\n",
       "65+         145756   119294"
      ]
     },
     "execution_count": 13,
     "metadata": {},
     "output_type": "execute_result"
    }
   ],
   "source": [
    "pivot2 =  pd.pivot_table(df, values='NOI',\n",
    "                        index='Age Group', columns=['Gender'],\n",
    "                        aggfunc='sum')\n",
    "pivot2"
   ]
  },
  {
   "cell_type": "code",
   "execution_count": 14,
   "metadata": {},
   "outputs": [
    {
     "data": {
      "text/plain": [
       "Index(['Year', 'Reporting Period', 'Age Group', 'Gender', 'NOI'], dtype='object')"
      ]
     },
     "execution_count": 14,
     "metadata": {},
     "output_type": "execute_result"
    }
   ],
   "source": [
    "df.columns"
   ]
  },
  {
   "cell_type": "markdown",
   "metadata": {},
   "source": [
    "## Ho: there is no difference between the number of men and woman\n",
    "## H1: there is a difference between the number of men and woman"
   ]
  },
  {
   "cell_type": "code",
   "execution_count": 15,
   "metadata": {},
   "outputs": [
    {
     "name": "stdout",
     "output_type": "stream",
     "text": [
      "p_value:  1.1083653307266504e-115\n"
     ]
    }
   ],
   "source": [
    "from statsmodels.stats.proportion import proportions_ztest\n",
    " \n",
    "count = 248736 #number of females \n",
    "nobs = 513852 #number of rows | or trials \n",
    "value = 0.5 # This is the value of the null hypothesis. That means porpotion of men = porpotion of women = 0.5\n",
    " \n",
    "#we are using alternative='two-sided' because we are chcking Pm≠Pw.\n",
    "#for Pw>Pm we have to set it to \"larger\" and for Pw<Pm to \"smaller\"\n",
    " \n",
    "stat, pval = proportions_ztest(count, nobs, value, alternative='two-sided')\n",
    " \n",
    "print(\"p_value: \",pval)"
   ]
  },
  {
   "cell_type": "code",
   "execution_count": 25,
   "metadata": {},
   "outputs": [
    {
     "name": "stdout",
     "output_type": "stream",
     "text": [
      "p_value:  1.875182914967605e-170\n"
     ]
    }
   ],
   "source": [
    "from statsmodels.stats.proportion import proportions_ztest\n",
    " \n",
    "count = 3021113 #number of females \n",
    "nobs = 6111019 #number of rows | or trials \n",
    "value = 0.5 # This is the value of the null hypothesis. That means porpotion of men = porpotion of women = 0.5\n",
    " \n",
    "#we are using alternative='two-sided' because we are chcking Pm≠Pw.\n",
    "#for Pw>Pm we have to set it to \"larger\" and for Pw<Pm to \"smaller\"\n",
    " \n",
    "stat, pval = proportions_ztest(count, nobs, value, alternative='two-sided')\n",
    " \n",
    "print(\"p_value: \",pval)"
   ]
  },
  {
   "cell_type": "code",
   "execution_count": 16,
   "metadata": {},
   "outputs": [
    {
     "name": "stdout",
     "output_type": "stream",
     "text": [
      "p_value:  0.0\n"
     ]
    }
   ],
   "source": [
    "print(\"p_value: \",round(pval,3))"
   ]
  },
  {
   "cell_type": "markdown",
   "metadata": {},
   "source": [
    "## Chi Squared Test\n",
    "## Ho: Gender and Age Groups are Independent\n",
    "## H1: Gender and Age Groups are Dependent"
   ]
  },
  {
   "cell_type": "code",
   "execution_count": 17,
   "metadata": {},
   "outputs": [
    {
     "data": {
      "text/html": [
       "<div>\n",
       "<style scoped>\n",
       "    .dataframe tbody tr th:only-of-type {\n",
       "        vertical-align: middle;\n",
       "    }\n",
       "\n",
       "    .dataframe tbody tr th {\n",
       "        vertical-align: top;\n",
       "    }\n",
       "\n",
       "    .dataframe thead th {\n",
       "        text-align: right;\n",
       "    }\n",
       "</style>\n",
       "<table border=\"1\" class=\"dataframe\">\n",
       "  <thead>\n",
       "    <tr style=\"text-align: right;\">\n",
       "      <th>Age Group</th>\n",
       "      <th>0 to 17</th>\n",
       "      <th>18 to 25</th>\n",
       "      <th>26 to 34</th>\n",
       "      <th>35 to 44</th>\n",
       "      <th>45 to 54</th>\n",
       "      <th>55 to 64</th>\n",
       "      <th>65+</th>\n",
       "    </tr>\n",
       "    <tr>\n",
       "      <th>Gender</th>\n",
       "      <th></th>\n",
       "      <th></th>\n",
       "      <th></th>\n",
       "      <th></th>\n",
       "      <th></th>\n",
       "      <th></th>\n",
       "      <th></th>\n",
       "    </tr>\n",
       "  </thead>\n",
       "  <tbody>\n",
       "    <tr>\n",
       "      <th>Female</th>\n",
       "      <td>1266502</td>\n",
       "      <td>356913</td>\n",
       "      <td>473321</td>\n",
       "      <td>287073</td>\n",
       "      <td>253077</td>\n",
       "      <td>238471</td>\n",
       "      <td>145756</td>\n",
       "    </tr>\n",
       "    <tr>\n",
       "      <th>Male</th>\n",
       "      <td>1309447</td>\n",
       "      <td>254587</td>\n",
       "      <td>473763</td>\n",
       "      <td>368157</td>\n",
       "      <td>305585</td>\n",
       "      <td>259073</td>\n",
       "      <td>119294</td>\n",
       "    </tr>\n",
       "  </tbody>\n",
       "</table>\n",
       "</div>"
      ],
      "text/plain": [
       "Age Group  0 to 17  18 to 25  26 to 34  35 to 44  45 to 54  55 to 64     65+\n",
       "Gender                                                                      \n",
       "Female     1266502    356913    473321    287073    253077    238471  145756\n",
       "Male       1309447    254587    473763    368157    305585    259073  119294"
      ]
     },
     "execution_count": 17,
     "metadata": {},
     "output_type": "execute_result"
    }
   ],
   "source": [
    "pivot2 =  pd.pivot_table(df, values='NOI',\n",
    "                        index='Gender', columns=['Age Group'],\n",
    "                        aggfunc='sum')\n",
    "pivot2"
   ]
  },
  {
   "cell_type": "code",
   "execution_count": 18,
   "metadata": {},
   "outputs": [
    {
     "data": {
      "text/html": [
       "<div>\n",
       "<style scoped>\n",
       "    .dataframe tbody tr th:only-of-type {\n",
       "        vertical-align: middle;\n",
       "    }\n",
       "\n",
       "    .dataframe tbody tr th {\n",
       "        vertical-align: top;\n",
       "    }\n",
       "\n",
       "    .dataframe thead th {\n",
       "        text-align: right;\n",
       "    }\n",
       "</style>\n",
       "<table border=\"1\" class=\"dataframe\">\n",
       "  <thead>\n",
       "    <tr style=\"text-align: right;\">\n",
       "      <th>Age Group</th>\n",
       "      <th>0 to 17</th>\n",
       "      <th>18 to 25</th>\n",
       "      <th>26 to 34</th>\n",
       "      <th>35 to 44</th>\n",
       "      <th>45 to 54</th>\n",
       "      <th>55 to 64</th>\n",
       "      <th>65+</th>\n",
       "    </tr>\n",
       "    <tr>\n",
       "      <th>Gender</th>\n",
       "      <th></th>\n",
       "      <th></th>\n",
       "      <th></th>\n",
       "      <th></th>\n",
       "      <th></th>\n",
       "      <th></th>\n",
       "      <th></th>\n",
       "    </tr>\n",
       "  </thead>\n",
       "  <tbody>\n",
       "    <tr>\n",
       "      <th>Female</th>\n",
       "      <td>1266502</td>\n",
       "      <td>356913</td>\n",
       "      <td>473321</td>\n",
       "      <td>287073</td>\n",
       "      <td>253077</td>\n",
       "      <td>238471</td>\n",
       "      <td>145756</td>\n",
       "    </tr>\n",
       "    <tr>\n",
       "      <th>Male</th>\n",
       "      <td>1309447</td>\n",
       "      <td>254587</td>\n",
       "      <td>473763</td>\n",
       "      <td>368157</td>\n",
       "      <td>305585</td>\n",
       "      <td>259073</td>\n",
       "      <td>119294</td>\n",
       "    </tr>\n",
       "  </tbody>\n",
       "</table>\n",
       "</div>"
      ],
      "text/plain": [
       "Age Group  0 to 17  18 to 25  26 to 34  35 to 44  45 to 54  55 to 64     65+\n",
       "Gender                                                                      \n",
       "Female     1266502    356913    473321    287073    253077    238471  145756\n",
       "Male       1309447    254587    473763    368157    305585    259073  119294"
      ]
     },
     "execution_count": 18,
     "metadata": {},
     "output_type": "execute_result"
    }
   ],
   "source": [
    "from scipy.stats import chi2_contingency\n",
    " \n",
    "#The easiest way to apply a chi-squared test is to compute the contigency table.\n",
    " \n",
    "contigency= pd.crosstab(df['Gender'], df['Age Group'],values=df['NOI'], aggfunc=sum)\n",
    "contigency"
   ]
  },
  {
   "cell_type": "code",
   "execution_count": 19,
   "metadata": {},
   "outputs": [
    {
     "name": "stdout",
     "output_type": "stream",
     "text": [
      "p_value:  0.0\n"
     ]
    }
   ],
   "source": [
    "c, p, dof, expected = chi2_contingency(pivot2)\n",
    " \n",
    "print(\"p_value: \",p)"
   ]
  },
  {
   "cell_type": "code",
   "execution_count": 20,
   "metadata": {},
   "outputs": [
    {
     "name": "stdout",
     "output_type": "stream",
     "text": [
      "p_value:  0.0\n"
     ]
    }
   ],
   "source": [
    "c, p, dof, expected = chi2_contingency(contigency)\n",
    " \n",
    "print(\"p_value: \",p)"
   ]
  },
  {
   "cell_type": "markdown",
   "metadata": {},
   "source": [
    "## p value is 0. we reject the null hypothesis"
   ]
  },
  {
   "cell_type": "code",
   "execution_count": 21,
   "metadata": {},
   "outputs": [
    {
     "name": "stdout",
     "output_type": "stream",
     "text": [
      "------------------------------------------------------------------------------------------------------------------------------------------------------------------------------------------------------------------------------------------------------------------------------------------------------------------------------------------------------------------------------------------------------------------------------------------------------------------------------------------------------------------------------------------------------------------------------------------\n"
     ]
    }
   ],
   "source": [
    "print('-' * 570)"
   ]
  },
  {
   "cell_type": "markdown",
   "metadata": {},
   "source": [
    "## Doing a Anova (Analysis Of Variance) test.\n",
    "## Ho: Groups means of eligibles are equal to one another\n",
    "## H1: At least, one group mean of eligibles is different from other groups"
   ]
  },
  {
   "cell_type": "code",
   "execution_count": 22,
   "metadata": {},
   "outputs": [
    {
     "data": {
      "text/plain": [
       "Index(['Year', 'Reporting Period', 'Age Group', 'Gender', 'NOI'], dtype='object')"
      ]
     },
     "execution_count": 22,
     "metadata": {},
     "output_type": "execute_result"
    }
   ],
   "source": [
    "df.columns"
   ]
  },
  {
   "cell_type": "code",
   "execution_count": 23,
   "metadata": {},
   "outputs": [
    {
     "name": "stdout",
     "output_type": "stream",
     "text": [
      "p_value:  0.0\n"
     ]
    }
   ],
   "source": [
    "import scipy.stats as stats\n",
    " \n",
    "# stats f_oneway functions takes the groups as input and returns ANOVA F and p value\n",
    "fvalue, pvalue = stats.f_oneway(df['NOI'][df['Age Group'] == '0 to 17'],\n",
    "                                df['NOI'][df['Age Group'] == '18 to 25'],\n",
    "                                df['NOI'][df['Age Group'] == '26 to 34'],\n",
    "                                df['NOI'][df['Age Group'] == '35 to 44'],\n",
    "                                df['NOI'][df['Age Group'] == '45 to 54'],\n",
    "                                df['NOI'][df['Age Group'] == '55 to 64'],\n",
    "                                df['NOI'][df['Age Group'] == '65+'])\n",
    "\n",
    " \n",
    "print(\"p_value: \",round(pvalue,3))"
   ]
  },
  {
   "cell_type": "code",
   "execution_count": 24,
   "metadata": {},
   "outputs": [
    {
     "name": "stdout",
     "output_type": "stream",
     "text": [
      "p_value:  1.006206412303938e-164\n"
     ]
    }
   ],
   "source": [
    "print(\"p_value: \",pvalue)"
   ]
  },
  {
   "cell_type": "markdown",
   "metadata": {},
   "source": [
    "## we reject the null hypothesis. therefore at least one group man of number of eligibles is diff from others"
   ]
  },
  {
   "cell_type": "code",
   "execution_count": null,
   "metadata": {},
   "outputs": [],
   "source": []
  },
  {
   "cell_type": "code",
   "execution_count": null,
   "metadata": {},
   "outputs": [],
   "source": []
  },
  {
   "cell_type": "code",
   "execution_count": null,
   "metadata": {},
   "outputs": [],
   "source": []
  },
  {
   "cell_type": "code",
   "execution_count": null,
   "metadata": {},
   "outputs": [],
   "source": []
  },
  {
   "cell_type": "code",
   "execution_count": null,
   "metadata": {},
   "outputs": [],
   "source": []
  },
  {
   "cell_type": "code",
   "execution_count": null,
   "metadata": {},
   "outputs": [],
   "source": []
  },
  {
   "cell_type": "code",
   "execution_count": null,
   "metadata": {},
   "outputs": [],
   "source": []
  },
  {
   "cell_type": "code",
   "execution_count": null,
   "metadata": {},
   "outputs": [],
   "source": []
  }
 ],
 "metadata": {
  "kernelspec": {
   "display_name": "Python 3",
   "language": "python",
   "name": "python3"
  },
  "language_info": {
   "codemirror_mode": {
    "name": "ipython",
    "version": 3
   },
   "file_extension": ".py",
   "mimetype": "text/x-python",
   "name": "python",
   "nbconvert_exporter": "python",
   "pygments_lexer": "ipython3",
   "version": "3.7.6"
  }
 },
 "nbformat": 4,
 "nbformat_minor": 4
}
